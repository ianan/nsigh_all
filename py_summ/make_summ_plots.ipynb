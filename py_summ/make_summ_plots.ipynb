{
 "cells": [
  {
   "cell_type": "code",
   "execution_count": 1,
   "metadata": {},
   "outputs": [],
   "source": [
    "# Notebook to make summary lightcurves and maps of NuSTAR Solar pointings\n",
    "\n",
    "# 15-Aug-2021 IGH"
   ]
  },
  {
   "cell_type": "code",
   "execution_count": 1,
   "metadata": {},
   "outputs": [],
   "source": [
    "import glob\n",
    "import ns_summ\n",
    "import astropy.time as atime"
   ]
  },
  {
   "cell_type": "markdown",
   "metadata": {},
   "source": [
    "###  2021 Jul 30th data\n",
    "---"
   ]
  },
  {
   "cell_type": "code",
   "execution_count": 3,
   "metadata": {},
   "outputs": [
    {
     "name": "stdout",
     "output_type": "stream",
     "text": [
      "['90710201001', '90710202001', '90710203001']\n"
     ]
    }
   ],
   "source": [
    "# What is the data and what's the pointing ids?\n",
    "maindir='/Volumes/Samsung_T5/data/heasarc_nustar/ns_20210730/'\n",
    "outdir='figs/ns_20210730/'\n",
    "ids_0=sorted(glob.glob(maindir+'/9*'))\n",
    "ids=[]\n",
    "for i in ids_0:\n",
    "    ids.append(i[len(maindir):])\n",
    "print(ids)"
   ]
  },
  {
   "cell_type": "code",
   "execution_count": 4,
   "metadata": {},
   "outputs": [],
   "source": [
    "# Lightcurves of NuSTAR data and hk for A and B combined\n",
    "\n",
    "# Not doing full hk file time range but narrow one based on data\n",
    "tims=atime.Time([['2021-07-30T18:00:00', '2021-07-30T19:10:00'],\\\n",
    "    ['2021-07-30T19:35:00', '2021-07-30T20:45:00'],\\\n",
    "    ['2021-07-30T21:15:00', '2021-07-30T22:25:00']], format='isot')\n",
    "\n",
    "for i in range(len(ids)):\n",
    "    ns_summ.plot_ltc_chu_nsidab(maindir,ids[i],outdir=outdir,tmaj=10,tmin=1,\\\n",
    "                          lvyr=[5e-2,1.1],cryr=[1e3,6e3],crscl='linear',timer=tims[i])"
   ]
  },
  {
   "cell_type": "code",
   "execution_count": 4,
   "metadata": {},
   "outputs": [],
   "source": [
    "# Lightcurves of GOES/XRS and NuSTAR data and hk for A, then B\n",
    "\n",
    "# Not doing full hk file time range but narrow one based on data\n",
    "tims=atime.Time([['2021-07-30T18:00:00', '2021-07-30T19:10:00'],\\\n",
    "    ['2021-07-30T19:35:00', '2021-07-30T20:45:00'],\\\n",
    "    ['2021-07-30T21:15:00', '2021-07-30T22:25:00']], format='isot')\n",
    "\n",
    "for i in range(len(ids)):\n",
    "    ns_summ.plot_ltc_chu_ges_nsid(maindir,ids[i],'A',outdir=outdir,wide=True,tmaj=10,tmin=1,\\\n",
    "                           lvyr=[5e-2,1.1],cryr=[1e3,6e3],crscl='linear',gsyr=[6e-8,1.2e-7],timer=tims[i])\n",
    "    ns_summ.plot_ltc_chu_ges_nsid(maindir,ids[i],'B',outdir=outdir,wide=True,tmaj=10,tmin=1,\\\n",
    "                           lvyr=[5e-2,1.1],cryr=[1e3,6e3],crscl='linear',gsyr=[6e-8,1.2e-7],timer=tims[i])"
   ]
  },
  {
   "cell_type": "code",
   "execution_count": 6,
   "metadata": {},
   "outputs": [],
   "source": [
    "# Full disk maps per each NuSTAR pointing for A, then B\n",
    "\n",
    "for ii in ids:\n",
    "    ns_summ.plot_fdmap_nsid(maindir,ii,'A',outdir=outdir)\n",
    "    ns_summ.plot_fdmap_nsid(maindir,ii,'B',outdir=outdir)"
   ]
  },
  {
   "cell_type": "code",
   "execution_count": 7,
   "metadata": {},
   "outputs": [],
   "source": [
    "# Zoomed in to FoV per each NuSTAR pointing for A, then B\n",
    "\n",
    "for ii in ids:\n",
    "    ns_summ.plot_map_nsid(maindir,ii,'A',outdir=outdir,resample=True,rsp=128)\n",
    "    ns_summ.plot_map_nsid(maindir,ii,'B',outdir=outdir,resample=True,rsp=128)"
   ]
  },
  {
   "cell_type": "code",
   "execution_count": null,
   "metadata": {},
   "outputs": [],
   "source": []
  },
  {
   "cell_type": "markdown",
   "metadata": {},
   "source": [
    "###  2021 Jul 20th data\n",
    "---"
   ]
  },
  {
   "cell_type": "code",
   "execution_count": 8,
   "metadata": {},
   "outputs": [
    {
     "name": "stdout",
     "output_type": "stream",
     "text": [
      "['80710201001', '80710202001', '80710203001', '80710204001', '80710205001', '80710206001', '80710207001', '80710208001', '80710209001']\n"
     ]
    }
   ],
   "source": [
    "# What is the data and what's the pointing ids?\n",
    "maindir='/Volumes/Samsung_T5/data/heasarc_nustar/ns_20210720/'\n",
    "outdir='figs/ns_20210720/'\n",
    "ids_0=sorted(glob.glob(maindir+'/8*'))\n",
    "ids=[]\n",
    "for i in ids_0:\n",
    "    ids.append(i[len(maindir):])\n",
    "print(ids)"
   ]
  },
  {
   "cell_type": "code",
   "execution_count": 9,
   "metadata": {},
   "outputs": [],
   "source": [
    "# Lightcurves of NuSTAR data and hk for A and B combined\n",
    "\n",
    "# Not doing full hk file time range but narrow one based on data\n",
    "tims=atime.Time([['2021-07-20T00:18:00', '2021-07-20T01:28:00'],\\\n",
    "    ['2021-07-20T01:55:00', '2021-07-20T03:05:00'],\\\n",
    "    ['2021-07-20T03:32:00', '2021-07-20T04:42:00'],\\\n",
    "    ['2021-07-20T05:10:00', '2021-07-20T06:20:00'],\\\n",
    "    ['2021-07-20T06:45:00', '2021-07-20T07:55:00'],\\\n",
    "    ['2021-07-20T08:22:00', '2021-07-20T09:32:00'],\\\n",
    "    ['2021-07-20T10:00:00', '2021-07-20T11:10:00'],\\\n",
    "    ['2021-07-20T11:35:00', '2021-07-20T12:45:00'],\\\n",
    "    ['2021-07-20T13:12:00', '2021-07-20T14:22:00']], format='isot')\n",
    "\n",
    "for i in range(len(ids)):\n",
    "    ns_summ.plot_ltc_chu_nsidab(maindir,ids[i],outdir=outdir,tmaj=10,tmin=1,\\\n",
    "                          lvyr=[5e-4,1.1],cryr=[2e4,7e5],crscl='log',timer=tims[i])"
   ]
  },
  {
   "cell_type": "code",
   "execution_count": 10,
   "metadata": {},
   "outputs": [],
   "source": [
    "# Not doing full hk file time range but narrow one based on data\n",
    "tims=atime.Time([['2021-07-20T00:18:00', '2021-07-20T01:28:00'],\\\n",
    "    ['2021-07-20T01:55:00', '2021-07-20T03:05:00'],\\\n",
    "    ['2021-07-20T03:32:00', '2021-07-20T04:42:00'],\\\n",
    "    ['2021-07-20T05:10:00', '2021-07-20T06:20:00'],\\\n",
    "    ['2021-07-20T06:45:00', '2021-07-20T07:55:00'],\\\n",
    "    ['2021-07-20T08:22:00', '2021-07-20T09:32:00'],\\\n",
    "    ['2021-07-20T10:00:00', '2021-07-20T11:10:00'],\\\n",
    "    ['2021-07-20T11:35:00', '2021-07-20T12:45:00'],\\\n",
    "    ['2021-07-20T13:12:00', '2021-07-20T14:22:00']], format='isot')\n",
    "   \n",
    "for i in range(len(ids)):\n",
    "    ns_summ.plot_ltc_chu_ges_nsid(maindir,ids[i],'A',outdir=outdir,wide=True,tmaj=10,tmin=1,\\\n",
    "                           lvyr=[5e-4,1.1],cryr=[2e4,7e5],gsyr=[2e-7,6e-7],timer=tims[i])\n",
    "    ns_summ.plot_ltc_chu_ges_nsid(maindir,ids[i],'B',outdir=outdir,wide=True,tmaj=10,tmin=1,\\\n",
    "                           lvyr=[5e-4,1.1],cryr=[2e4,7e5],gsyr=[2e-7,6e-7],timer=tims[i])"
   ]
  },
  {
   "cell_type": "code",
   "execution_count": 11,
   "metadata": {},
   "outputs": [],
   "source": [
    "# Full disk maps per each NuSTAR pointing for A, then B\n",
    "\n",
    "for ii in ids:\n",
    "    ns_summ.plot_fdmap_nsid(maindir,ii,'A',outdir=outdir,vmin=5e-2,vmax=5e1,xyr=1400)\n",
    "    ns_summ.plot_fdmap_nsid(maindir,ii,'B',outdir=outdir,vmin=5e-2,vmax=5e1,xyr=1400)"
   ]
  },
  {
   "cell_type": "code",
   "execution_count": 12,
   "metadata": {},
   "outputs": [],
   "source": [
    "# Zoomed in to FoV per each NuSTAR pointing for A, then B\n",
    "\n",
    "for ii in ids:\n",
    "    ns_summ.plot_map_nsid(maindir,ii,'A',outdir=outdir,vmin=5e-2,vmax=5e1,resample=True,rsp=128)\n",
    "    ns_summ.plot_map_nsid(maindir,ii,'B',outdir=outdir,vmin=5e-2,vmax=5e1,resample=True,rsp=128)"
   ]
  },
  {
   "cell_type": "code",
   "execution_count": null,
   "metadata": {},
   "outputs": [],
   "source": []
  }
 ],
 "metadata": {
  "kernelspec": {
   "display_name": "Python 3",
   "language": "python",
   "name": "python3"
  },
  "language_info": {
   "codemirror_mode": {
    "name": "ipython",
    "version": 3
   },
   "file_extension": ".py",
   "mimetype": "text/x-python",
   "name": "python",
   "nbconvert_exporter": "python",
   "pygments_lexer": "ipython3",
   "version": "3.8.3"
  }
 },
 "nbformat": 4,
 "nbformat_minor": 4
}
